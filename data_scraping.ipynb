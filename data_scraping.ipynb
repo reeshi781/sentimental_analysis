{
 "cells": [
  {
   "cell_type": "markdown",
   "id": "fae68936-e976-4469-aa77-73f676b9880d",
   "metadata": {},
   "source": [
    "### Importing Libraries"
   ]
  },
  {
   "cell_type": "code",
   "execution_count": 1,
   "id": "c8bd127f-b411-4708-9da7-13b8d849dcde",
   "metadata": {},
   "outputs": [],
   "source": [
    "import requests\n",
    "from bs4 import BeautifulSoup\n",
    "import pandas as pd\n",
    "import time \n",
    "import csv"
   ]
  },
  {
   "cell_type": "markdown",
   "id": "3c3a83cc-f5eb-4e00-b353-40f8d2277f1f",
   "metadata": {},
   "source": [
    "### Initialization the Lists , Looping Through Pages, Sending HTTP Request, Parsing HTML Content ,Extracting Data and Adding Delays.\n",
    "\n",
    "#### It might take time, so please wait until the task is complete"
   ]
  },
  {
   "cell_type": "code",
   "execution_count": 2,
   "id": "8a9eabba-ddd3-46eb-b861-294987ff689a",
   "metadata": {},
   "outputs": [
    {
     "ename": "KeyboardInterrupt",
     "evalue": "",
     "output_type": "error",
     "traceback": [
      "\u001b[1;31m---------------------------------------------------------------------------\u001b[0m",
      "\u001b[1;31mKeyboardInterrupt\u001b[0m                         Traceback (most recent call last)",
      "Cell \u001b[1;32mIn[2], line 41\u001b[0m\n\u001b[0;32m     36\u001b[0m Locations\u001b[38;5;241m.\u001b[39mextend([location\u001b[38;5;241m.\u001b[39mget_text() \u001b[38;5;28;01mfor\u001b[39;00m location \u001b[38;5;129;01min\u001b[39;00m locations])\n\u001b[0;32m     37\u001b[0m Cuctomers\u001b[38;5;241m.\u001b[39mextend([customer\u001b[38;5;241m.\u001b[39mget_text() \u001b[38;5;28;01mfor\u001b[39;00m customer \u001b[38;5;129;01min\u001b[39;00m customers])                     \n\u001b[1;32m---> 41\u001b[0m time\u001b[38;5;241m.\u001b[39msleep(\u001b[38;5;241m3\u001b[39m)\n",
      "\u001b[1;31mKeyboardInterrupt\u001b[0m: "
     ]
    }
   ],
   "source": [
    "all_reviews = []\n",
    "all_div_reviews = []\n",
    "all_ratings = []\n",
    "Locations = []\n",
    "Time = []\n",
    "Cuctomers = []\n",
    "\n",
    "for page_num in range(1, 201):  # Adjust the range for 200 pages\n",
    "    url_source = f'https://www.flipkart.com/redmi-note-12-pro-5g-stardust-purple-128-gb/product-reviews/itm26c8ff9d1f226?pid=MOBGH2UVWWDA4MS6&lid=LSTMOBGH2UVWWDA4MS6M7LVCT&marketplace=FLIPKART&page={page_num}'\n",
    "    url = url_source.format(page_num=page_num)\n",
    "    r = requests.get(url)\n",
    "\n",
    "    # Extract data using BeautifulSoup Library\n",
    "    soup = BeautifulSoup(r.content, 'html.parser')\n",
    "\n",
    "    # Extract reviews, comments, and ratings\n",
    "    reviews = soup.find_all('p', {'class': \"_2-N8zT\"})\n",
    "    div_reviews = soup.find_all('div', {'class': \"t-ZTKy\"})\n",
    "    ratings = soup.find_all('div', {'class': \"_3LWZlK _1BLPMq\"})\n",
    "    locations = soup.find_all('p', {'class': \"_2mcZGG\"})\n",
    "    customers = soup.find_all('p', {'class': \"_2sc7ZR _2V5EHH\"})\n",
    "    timestamps = []\n",
    "    for p in customers:\n",
    "        previous_p = p.find_previous('p', {'class': \"_2sc7ZR\"})\n",
    "        if previous_p:\n",
    "            timestamp = previous_p.get_text(strip=True)\n",
    "            timestamps.append(timestamp)\n",
    "        else:\n",
    "            timestamps.append(\"\")\n",
    "\n",
    "    \n",
    "    Time.extend(timestamps)\n",
    "    all_reviews.extend([review.get_text() for review in reviews])\n",
    "    all_div_reviews.extend([div_review.get_text() for div_review in div_reviews])\n",
    "    all_ratings.extend([rating.get_text() for rating in ratings])\n",
    "    Locations.extend([location.get_text() for location in locations])\n",
    "    Cuctomers.extend([customer.get_text() for customer in customers])                     \n",
    "\n",
    "    \n",
    "\n",
    "    time.sleep(3)"
   ]
  },
  {
   "cell_type": "markdown",
   "id": "8b5d921d-ba61-411f-a684-ed6ddb399bb3",
   "metadata": {},
   "source": [
    "### Organizing Data"
   ]
  },
  {
   "cell_type": "code",
   "execution_count": null,
   "id": "e18d2821-52ad-4c21-8df8-f3839532e645",
   "metadata": {},
   "outputs": [],
   "source": [
    "data = {\n",
    "    'Review': all_reviews,\n",
    "    'Comments': all_div_reviews,\n",
    "    'Ratings': all_ratings,\n",
    "    'Locations': Locations,\n",
    "    'Cuctomers': Cuctomers,\n",
    "    'Time': Time\n",
    "}"
   ]
  },
  {
   "cell_type": "code",
   "execution_count": null,
   "id": "a9909c69-1023-4cc1-885d-bbe64c3390f0",
   "metadata": {},
   "outputs": [],
   "source": [
    "data['Time']"
   ]
  },
  {
   "cell_type": "markdown",
   "id": "21afb34d-6768-4c23-bbcc-6fa7798fd054",
   "metadata": {},
   "source": [
    "### Converting Organizing Data into csv formate"
   ]
  },
  {
   "cell_type": "code",
   "execution_count": null,
   "id": "5828aa59-7eb5-43d9-81df-cd3cf0593831",
   "metadata": {},
   "outputs": [],
   "source": [
    "\n",
    "csv_filename = 'reviews_data.csv'\n",
    "\n",
    "with open(csv_filename, mode='w', newline='', encoding='utf-8') as csv_file:\n",
    "    csv_writer = csv.writer(csv_file)\n",
    "    csv_writer.writerow(data.keys())\n",
    "\n",
    "    for row in zip(*data.values()):\n",
    "        csv_writer.writerow(row)\n"
   ]
  },
  {
   "cell_type": "code",
   "execution_count": null,
   "id": "103324e1-a003-46e6-a2e4-a829293c8ad9",
   "metadata": {},
   "outputs": [],
   "source": []
  },
  {
   "cell_type": "code",
   "execution_count": null,
   "id": "0ac2bf90-b006-456c-9034-a9934ab00b3c",
   "metadata": {},
   "outputs": [],
   "source": [
    "# df.to_csv('reviews.csv', index=False)"
   ]
  },
  {
   "cell_type": "code",
   "execution_count": null,
   "id": "c07484ad-54cb-43e7-bafa-d3c76907248b",
   "metadata": {},
   "outputs": [],
   "source": []
  }
 ],
 "metadata": {
  "kernelspec": {
   "display_name": "Python 3 (ipykernel)",
   "language": "python",
   "name": "python3"
  },
  "language_info": {
   "codemirror_mode": {
    "name": "ipython",
    "version": 3
   },
   "file_extension": ".py",
   "mimetype": "text/x-python",
   "name": "python",
   "nbconvert_exporter": "python",
   "pygments_lexer": "ipython3",
   "version": "3.11.4"
  }
 },
 "nbformat": 4,
 "nbformat_minor": 5
}
